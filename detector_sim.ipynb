{
 "cells": [
  {
   "cell_type": "code",
   "execution_count": null,
   "metadata": {},
   "outputs": [],
   "source": []
  },
  {
   "cell_type": "code",
   "execution_count": null,
   "metadata": {},
   "outputs": [],
   "source": []
  },
  {
   "cell_type": "code",
   "execution_count": null,
   "metadata": {},
   "outputs": [
    {
     "ename": "",
     "evalue": "",
     "output_type": "error",
     "traceback": [
      "\u001b[1;31mカーネルを起動できませんでした。 \n",
      "\u001b[1;31mTraceback (most recent call last):\n",
      "\u001b[1;31m  File \"<frozen runpy>\", line 198, in _run_module_as_main\n",
      "\u001b[1;31m  File \"<frozen runpy>\", line 88, in _run_code\n",
      "\u001b[1;31m  File \"/opt/anaconda3/envs/myenv/lib/python3.12/site-packages/ipykernel_launcher.py\", line 16, in <module>\n",
      "\u001b[1;31m    from ipykernel import kernelapp as app\n",
      "\u001b[1;31m  File \"/opt/anaconda3/envs/myenv/lib/python3.12/site-packages/ipykernel/kernelapp.py\", line 21, in <module>\n",
      "\u001b[1;31m    from IPython.core.application import (  # type:ignore[attr-defined]\n",
      "\u001b[1;31m  File \"/opt/anaconda3/envs/myenv/lib/python3.12/site-packages/IPython/__init__.py\", line 55, in <module>\n",
      "\u001b[1;31m    from .terminal.embed import embed\n",
      "\u001b[1;31m  File \"/opt/anaconda3/envs/myenv/lib/python3.12/site-packages/IPython/terminal/embed.py\", line 15, in <module>\n",
      "\u001b[1;31m    from IPython.core.interactiveshell import DummyMod, InteractiveShell\n",
      "\u001b[1;31m  File \"/opt/anaconda3/envs/myenv/lib/python3.12/site-packages/IPython/core/interactiveshell.py\", line 110, in <module>\n",
      "\u001b[1;31m    from IPython.core.history import HistoryManager\n",
      "\u001b[1;31m  File \"/opt/anaconda3/envs/myenv/lib/python3.12/site-packages/IPython/core/history.py\", line 10, in <module>\n",
      "\u001b[1;31m    import sqlite3\n",
      "\u001b[1;31m  File \"/opt/anaconda3/envs/myenv/lib/python3.12/sqlite3/__init__.py\", line 57, in <module>\n",
      "\u001b[1;31m    from sqlite3.dbapi2 import *\n",
      "\u001b[1;31m  File \"/opt/anaconda3/envs/myenv/lib/python3.12/sqlite3/dbapi2.py\", line 27, in <module>\n",
      "\u001b[1;31m    from _sqlite3 import *\n",
      "\u001b[1;31mImportError: dlopen(/opt/anaconda3/envs/myenv/lib/python3.12/lib-dynload/_sqlite3.cpython-312-darwin.so, 0x0002): Symbol not found: _sqlite3_enable_load_extension\n",
      "\u001b[1;31m  Referenced from: <4C8A356C-740E-3A20-8BFB-F406623A870F> /opt/anaconda3/envs/myenv/lib/python3.12/lib-dynload/_sqlite3.cpython-312-darwin.so\n",
      "\u001b[1;31m  Expected in:     <EA38CD98-B566-3679-9D29-6543317DF40D> /usr/lib/libsqlite3.dylib. \n",
      "\u001b[1;31m詳細については、Jupyter [ログ] (command:jupyter.viewOutput) を参照してください。"
     ]
    }
   ],
   "source": [
    "import numpy as np\n",
    "import matplotlib.pyplot as plt\n",
    "from scipy.signal import fftconvolve\n",
    "from scipy.optimize import curve_fit\n",
    "\n",
    "# パラメータ設定\n",
    "sigma_model = 5 / 2.35  # スペクトルモデルの標準偏差 (eV)\n",
    "sigma_detector = 4.5 / 2.35  # 検出器応答の標準偏差 (eV)\n",
    "energy_range = np.linspace(-100, 100, 1000)  # エネルギー範囲 (eV)\n",
    "total_events = 1e5  # 観測中の総事象数\n",
    "\n",
    "# 観測時間の設定 (ksec単位)\n",
    "observation_times = np.linspace(0, 10, 10)  # 観測時間を0~10 ksecで10個\n",
    "\n",
    "# 観測時間に応じた中心エネルギーの計算\n",
    "def calculate_center_energy(observation_time):\n",
    "    return 0.124 * observation_time  # 中心エネルギーが 0.124 eV/ksec で変化\n",
    "\n",
    "# ガウス関数の定義\n",
    "def gaussian(x, a, x0, sigma):\n",
    "    return a * np.exp(-(x - x0)**2 / (2 * sigma**2))\n",
    "\n",
    "# 検出器応答 (ガウス分布, 観測時間に依存しない)\n",
    "detector_response = np.exp(-energy_range**2 / (2 * sigma_detector**2))\n",
    "detector_response /= np.sum(detector_response)  # 正規化\n",
    "\n",
    "# スペクトルの足し合わせ\n",
    "total_spectrum = np.zeros_like(energy_range)\n",
    "for observation_time in observation_times:\n",
    "    center_model = calculate_center_energy(observation_time)  # 観測時間ごとの中心エネルギー\n",
    "\n",
    "    # スペクトルモデル (ガウス分布)\n",
    "    model_spectrum = np.exp(-(energy_range - center_model)**2 / (2 * sigma_model**2))\n",
    "    model_spectrum /= np.sum(model_spectrum)  # 正規化\n",
    "\n",
    "    # 畳み込みして観測スペクトルを計算\n",
    "    observed_spectrum = fftconvolve(model_spectrum, detector_response, mode='same')\n",
    "\n",
    "    # 観測時間を考慮してイベント数を生成\n",
    "    observed_spectrum *= total_events / np.sum(observed_spectrum)\n",
    "\n",
    "    # 全体スペクトルに足し合わせ\n",
    "    total_spectrum += observed_spectrum\n",
    "\n",
    "# フィッティング\n",
    "popt, pcov = curve_fit(gaussian, energy_range, total_spectrum, p0=[total_spectrum.max(), 0, 10])\n",
    "\n",
    "# フィッティング結果\n",
    "fitted_a, fitted_x0, fitted_sigma = popt\n",
    "print(f\"Fitted Parameters:\\n  Amplitude: {fitted_a:.2f}\\n  Center: {fitted_x0:.2f} eV\\n  Sigma: {fitted_sigma:.2f} eV\")\n",
    "\n",
    "# プロット\n",
    "plt.figure(figsize=(10, 7))\n",
    "plt.plot(energy_range, total_spectrum, label=\"Summed Spectrum\", color=\"blue\")\n",
    "plt.plot(energy_range, gaussian(energy_range, *popt), label=\"Fitted Gaussian\", color=\"red\", linestyle=\"--\")\n",
    "plt.xlabel(\"Energy (eV)\")\n",
    "plt.ylabel(\"Counts\")\n",
    "plt.title(\"Summed Spectrum and Gaussian Fit\")\n",
    "plt.legend()\n",
    "plt.grid(True)\n",
    "plt.show()"
   ]
  },
  {
   "cell_type": "code",
   "execution_count": null,
   "metadata": {},
   "outputs": [],
   "source": []
  }
 ],
 "metadata": {
  "kernelspec": {
   "display_name": "myenv",
   "language": "python",
   "name": "python3"
  },
  "language_info": {
   "name": "python",
   "version": "3.12.3"
  }
 },
 "nbformat": 4,
 "nbformat_minor": 2
}
