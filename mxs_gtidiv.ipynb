{
 "cells": [
  {
   "cell_type": "markdown",
   "metadata": {},
   "source": [
    "## 5000でfine gtiを作成"
   ]
  },
  {
   "cell_type": "code",
   "execution_count": null,
   "metadata": {},
   "outputs": [],
   "source": [
    "from mxsgti import *\n",
    "import os\n",
    "\n",
    "os.chdir('/Volumes/SUNDISK_SSD/PKS_XRISM/repro_analysis/55Fe_nasa_repro_v3/55Fe_cl_data/for_source_divide_fine')\n",
    "make_finegti('xa000112000rsl_p0px5000_fine.gti', 'xa000112000rsl_a0.hk1', 'xa000112000.tim.gz', 20)"
   ]
  },
  {
   "cell_type": "markdown",
   "metadata": {},
   "source": [
    "## max modeの非照射時のgtiを作成\n",
    "xa000112000rsl_p0px5000_cl.evt.gzを使用\n",
    "max前のled on (seq16) : 153272460.8125 s - 60 s で分割　"
   ]
  },
  {
   "cell_type": "code",
   "execution_count": 5,
   "metadata": {},
   "outputs": [
    {
     "name": "stdout",
     "output_type": "stream",
     "text": [
      "----------------------------------\n",
      "Take out GTI\n",
      "Divide GTI at 153272400.8125\n",
      "max start : 153401368.0\n",
      "max stop : 153403198.20239082\n",
      "GTI information in xa000112000rsl_p0px5000_cl_before_max.evt has been updated.\n"
     ]
    },
    {
     "ename": "UnsupportedOperation",
     "evalue": "truncate",
     "output_type": "error",
     "traceback": [
      "\u001b[0;31m---------------------------------------------------------------------------\u001b[0m",
      "\u001b[0;31mUnsupportedOperation\u001b[0m                      Traceback (most recent call last)",
      "Cell \u001b[0;32mIn[5], line 5\u001b[0m\n\u001b[1;32m      3\u001b[0m shutil\u001b[38;5;241m.\u001b[39mcopy(\u001b[38;5;124m'\u001b[39m\u001b[38;5;124mxa000112000rsl_p0px5000_cl.evt.gz\u001b[39m\u001b[38;5;124m'\u001b[39m,\u001b[38;5;124m'\u001b[39m\u001b[38;5;124mxa000112000rsl_p0px5000_cl_before_max.evt\u001b[39m\u001b[38;5;124m'\u001b[39m)\n\u001b[1;32m      4\u001b[0m F \u001b[38;5;241m=\u001b[39m FitsEdit()\n\u001b[0;32m----> 5\u001b[0m \u001b[43mF\u001b[49m\u001b[38;5;241;43m.\u001b[39;49m\u001b[43mdivide_gti\u001b[49m\u001b[43m(\u001b[49m\u001b[38;5;124;43m'\u001b[39;49m\u001b[38;5;124;43mxa000112000rsl_p0px5000_cl_before_max.evt\u001b[39;49m\u001b[38;5;124;43m'\u001b[39;49m\u001b[43m,\u001b[49m\u001b[38;5;241;43m153272460.8125\u001b[39;49m\u001b[38;5;241;43m-\u001b[39;49m\u001b[38;5;241;43m60\u001b[39;49m\u001b[43m,\u001b[49m\u001b[38;5;124;43m'\u001b[39;49m\u001b[38;5;124;43mbefore\u001b[39;49m\u001b[38;5;124;43m'\u001b[39;49m\u001b[43m,\u001b[49m\u001b[38;5;28;43;01mTrue\u001b[39;49;00m\u001b[43m)\u001b[49m\n",
      "File \u001b[0;32m~/Dropbox/share/python_script/resolve_analysis.py:1010\u001b[0m, in \u001b[0;36mFitsEdit.divide_gti\u001b[0;34m(self, file_path, divide_position, option, overwrite, new_file_path)\u001b[0m\n\u001b[1;32m   1008\u001b[0m \u001b[38;5;28mprint\u001b[39m(\u001b[38;5;124m\"\u001b[39m\u001b[38;5;124m----------------------------------\u001b[39m\u001b[38;5;124m\"\u001b[39m)\n\u001b[1;32m   1009\u001b[0m \u001b[38;5;28mprint\u001b[39m(\u001b[38;5;124m\"\u001b[39m\u001b[38;5;124mTake out GTI\u001b[39m\u001b[38;5;124m\"\u001b[39m)\n\u001b[0;32m-> 1010\u001b[0m \u001b[43m\u001b[49m\u001b[38;5;28;43;01mwith\u001b[39;49;00m\u001b[43m \u001b[49m\u001b[43mfits\u001b[49m\u001b[38;5;241;43m.\u001b[39;49m\u001b[43mopen\u001b[49m\u001b[43m(\u001b[49m\u001b[43mfile_path\u001b[49m\u001b[43m,\u001b[49m\u001b[43m \u001b[49m\u001b[43mmode\u001b[49m\u001b[38;5;241;43m=\u001b[39;49m\u001b[38;5;124;43m'\u001b[39;49m\u001b[38;5;124;43mupdate\u001b[39;49m\u001b[38;5;124;43m'\u001b[39;49m\u001b[43m)\u001b[49m\u001b[43m \u001b[49m\u001b[38;5;28;43;01mas\u001b[39;49;00m\u001b[43m \u001b[49m\u001b[43mhdul\u001b[49m\u001b[43m:\u001b[49m\n\u001b[1;32m   1011\u001b[0m \u001b[43m    \u001b[49m\u001b[38;5;66;43;03m# GTIデータを取得\u001b[39;49;00m\n\u001b[1;32m   1012\u001b[0m \u001b[43m    \u001b[49m\u001b[43mgti\u001b[49m\u001b[43m \u001b[49m\u001b[38;5;241;43m=\u001b[39;49m\u001b[43m \u001b[49m\u001b[43mhdul\u001b[49m\u001b[43m[\u001b[49m\u001b[38;5;124;43m'\u001b[39;49m\u001b[38;5;124;43mGTI\u001b[39;49m\u001b[38;5;124;43m'\u001b[39;49m\u001b[43m]\u001b[49m\u001b[38;5;241;43m.\u001b[39;49m\u001b[43mdata\u001b[49m\n\u001b[1;32m   1013\u001b[0m \u001b[43m    \u001b[49m\u001b[43mstart\u001b[49m\u001b[43m \u001b[49m\u001b[38;5;241;43m=\u001b[39;49m\u001b[43m \u001b[49m\u001b[43mgti\u001b[49m\u001b[43m[\u001b[49m\u001b[38;5;124;43m'\u001b[39;49m\u001b[38;5;124;43mSTART\u001b[39;49m\u001b[38;5;124;43m'\u001b[39;49m\u001b[43m]\u001b[49m\n",
      "File \u001b[0;32m/opt/anaconda3/envs/myenv/lib/python3.12/site-packages/astropy/io/fits/hdu/hdulist.py:466\u001b[0m, in \u001b[0;36mHDUList.__exit__\u001b[0;34m(self, type, value, traceback)\u001b[0m\n\u001b[1;32m    464\u001b[0m \u001b[38;5;28;01mdef\u001b[39;00m\u001b[38;5;250m \u001b[39m\u001b[38;5;21m__exit__\u001b[39m(\u001b[38;5;28mself\u001b[39m, \u001b[38;5;28mtype\u001b[39m, value, traceback):\n\u001b[1;32m    465\u001b[0m     output_verify \u001b[38;5;241m=\u001b[39m \u001b[38;5;28mself\u001b[39m\u001b[38;5;241m.\u001b[39m_open_kwargs\u001b[38;5;241m.\u001b[39mget(\u001b[38;5;124m\"\u001b[39m\u001b[38;5;124moutput_verify\u001b[39m\u001b[38;5;124m\"\u001b[39m, \u001b[38;5;124m\"\u001b[39m\u001b[38;5;124mexception\u001b[39m\u001b[38;5;124m\"\u001b[39m)\n\u001b[0;32m--> 466\u001b[0m     \u001b[38;5;28;43mself\u001b[39;49m\u001b[38;5;241;43m.\u001b[39;49m\u001b[43mclose\u001b[49m\u001b[43m(\u001b[49m\u001b[43moutput_verify\u001b[49m\u001b[38;5;241;43m=\u001b[39;49m\u001b[43moutput_verify\u001b[49m\u001b[43m)\u001b[49m\n",
      "File \u001b[0;32m/opt/anaconda3/envs/myenv/lib/python3.12/site-packages/astropy/io/fits/hdu/hdulist.py:1073\u001b[0m, in \u001b[0;36mHDUList.close\u001b[0;34m(self, output_verify, verbose, closed)\u001b[0m\n\u001b[1;32m   1067\u001b[0m \u001b[38;5;28;01mtry\u001b[39;00m:\n\u001b[1;32m   1068\u001b[0m     \u001b[38;5;28;01mif\u001b[39;00m (\n\u001b[1;32m   1069\u001b[0m         \u001b[38;5;28mself\u001b[39m\u001b[38;5;241m.\u001b[39m_file\n\u001b[1;32m   1070\u001b[0m         \u001b[38;5;129;01mand\u001b[39;00m \u001b[38;5;28mself\u001b[39m\u001b[38;5;241m.\u001b[39m_file\u001b[38;5;241m.\u001b[39mmode \u001b[38;5;129;01min\u001b[39;00m (\u001b[38;5;124m\"\u001b[39m\u001b[38;5;124mappend\u001b[39m\u001b[38;5;124m\"\u001b[39m, \u001b[38;5;124m\"\u001b[39m\u001b[38;5;124mupdate\u001b[39m\u001b[38;5;124m\"\u001b[39m)\n\u001b[1;32m   1071\u001b[0m         \u001b[38;5;129;01mand\u001b[39;00m \u001b[38;5;129;01mnot\u001b[39;00m \u001b[38;5;28mself\u001b[39m\u001b[38;5;241m.\u001b[39m_file\u001b[38;5;241m.\u001b[39mclosed\n\u001b[1;32m   1072\u001b[0m     ):\n\u001b[0;32m-> 1073\u001b[0m         \u001b[38;5;28;43mself\u001b[39;49m\u001b[38;5;241;43m.\u001b[39;49m\u001b[43mflush\u001b[49m\u001b[43m(\u001b[49m\u001b[43moutput_verify\u001b[49m\u001b[38;5;241;43m=\u001b[39;49m\u001b[43moutput_verify\u001b[49m\u001b[43m,\u001b[49m\u001b[43m \u001b[49m\u001b[43mverbose\u001b[49m\u001b[38;5;241;43m=\u001b[39;49m\u001b[43mverbose\u001b[49m\u001b[43m)\u001b[49m\n\u001b[1;32m   1074\u001b[0m \u001b[38;5;28;01mfinally\u001b[39;00m:\n\u001b[1;32m   1075\u001b[0m     \u001b[38;5;28;01mif\u001b[39;00m \u001b[38;5;28mself\u001b[39m\u001b[38;5;241m.\u001b[39m_file \u001b[38;5;129;01mand\u001b[39;00m closed \u001b[38;5;129;01mand\u001b[39;00m \u001b[38;5;28mhasattr\u001b[39m(\u001b[38;5;28mself\u001b[39m\u001b[38;5;241m.\u001b[39m_file, \u001b[38;5;124m\"\u001b[39m\u001b[38;5;124mclose\u001b[39m\u001b[38;5;124m\"\u001b[39m):\n",
      "File \u001b[0;32m/opt/anaconda3/envs/myenv/lib/python3.12/site-packages/astropy/io/fits/util.py:226\u001b[0m, in \u001b[0;36mignore_sigint.<locals>.wrapped\u001b[0;34m(*args, **kwargs)\u001b[0m\n\u001b[1;32m    223\u001b[0m     old_handler \u001b[38;5;241m=\u001b[39m signal\u001b[38;5;241m.\u001b[39msignal(signal\u001b[38;5;241m.\u001b[39mSIGINT, sigint_handler)\n\u001b[1;32m    225\u001b[0m \u001b[38;5;28;01mtry\u001b[39;00m:\n\u001b[0;32m--> 226\u001b[0m     \u001b[43mfunc\u001b[49m\u001b[43m(\u001b[49m\u001b[38;5;241;43m*\u001b[39;49m\u001b[43margs\u001b[49m\u001b[43m,\u001b[49m\u001b[43m \u001b[49m\u001b[38;5;241;43m*\u001b[39;49m\u001b[38;5;241;43m*\u001b[39;49m\u001b[43mkwargs\u001b[49m\u001b[43m)\u001b[49m\n\u001b[1;32m    227\u001b[0m \u001b[38;5;28;01mfinally\u001b[39;00m:\n\u001b[1;32m    228\u001b[0m     \u001b[38;5;28;01mif\u001b[39;00m single_thread:\n",
      "File \u001b[0;32m/opt/anaconda3/envs/myenv/lib/python3.12/site-packages/astropy/io/fits/hdu/hdulist.py:941\u001b[0m, in \u001b[0;36mHDUList.flush\u001b[0;34m(self, output_verify, verbose)\u001b[0m\n\u001b[1;32m    938\u001b[0m             hdu\u001b[38;5;241m.\u001b[39m_postwriteto()\n\u001b[1;32m    940\u001b[0m \u001b[38;5;28;01melif\u001b[39;00m \u001b[38;5;28mself\u001b[39m\u001b[38;5;241m.\u001b[39m_file\u001b[38;5;241m.\u001b[39mmode \u001b[38;5;241m==\u001b[39m \u001b[38;5;124m\"\u001b[39m\u001b[38;5;124mupdate\u001b[39m\u001b[38;5;124m\"\u001b[39m:\n\u001b[0;32m--> 941\u001b[0m     \u001b[38;5;28;43mself\u001b[39;49m\u001b[38;5;241;43m.\u001b[39;49m\u001b[43m_flush_update\u001b[49m\u001b[43m(\u001b[49m\u001b[43m)\u001b[49m\n",
      "File \u001b[0;32m/opt/anaconda3/envs/myenv/lib/python3.12/site-packages/astropy/io/fits/hdu/hdulist.py:1428\u001b[0m, in \u001b[0;36mHDUList._flush_update\u001b[0;34m(self)\u001b[0m\n\u001b[1;32m   1425\u001b[0m \u001b[38;5;66;03m# if the HDUList is resized, need to write out the entire contents of\u001b[39;00m\n\u001b[1;32m   1426\u001b[0m \u001b[38;5;66;03m# the hdulist to the file.\u001b[39;00m\n\u001b[1;32m   1427\u001b[0m \u001b[38;5;28;01mif\u001b[39;00m \u001b[38;5;28mself\u001b[39m\u001b[38;5;241m.\u001b[39m_resize \u001b[38;5;129;01mor\u001b[39;00m \u001b[38;5;28mself\u001b[39m\u001b[38;5;241m.\u001b[39m_file\u001b[38;5;241m.\u001b[39mcompression:\n\u001b[0;32m-> 1428\u001b[0m     \u001b[38;5;28;43mself\u001b[39;49m\u001b[38;5;241;43m.\u001b[39;49m\u001b[43m_flush_resize\u001b[49m\u001b[43m(\u001b[49m\u001b[43m)\u001b[49m\n\u001b[1;32m   1429\u001b[0m \u001b[38;5;28;01melse\u001b[39;00m:\n\u001b[1;32m   1430\u001b[0m     \u001b[38;5;66;03m# if not resized, update in place\u001b[39;00m\n\u001b[1;32m   1431\u001b[0m     \u001b[38;5;28;01mfor\u001b[39;00m hdu \u001b[38;5;129;01min\u001b[39;00m \u001b[38;5;28mself\u001b[39m:\n",
      "File \u001b[0;32m/opt/anaconda3/envs/myenv/lib/python3.12/site-packages/astropy/io/fits/hdu/hdulist.py:1555\u001b[0m, in \u001b[0;36mHDUList._flush_resize\u001b[0;34m(self)\u001b[0m\n\u001b[1;32m   1552\u001b[0m hdulist \u001b[38;5;241m=\u001b[39m \u001b[38;5;28mself\u001b[39m\u001b[38;5;241m.\u001b[39mfromfile(name)\n\u001b[1;32m   1553\u001b[0m ffo \u001b[38;5;241m=\u001b[39m \u001b[38;5;28mself\u001b[39m\u001b[38;5;241m.\u001b[39m_file\n\u001b[0;32m-> 1555\u001b[0m \u001b[43mffo\u001b[49m\u001b[38;5;241;43m.\u001b[39;49m\u001b[43mtruncate\u001b[49m\u001b[43m(\u001b[49m\u001b[38;5;241;43m0\u001b[39;49m\u001b[43m)\u001b[49m\n\u001b[1;32m   1556\u001b[0m ffo\u001b[38;5;241m.\u001b[39mseek(\u001b[38;5;241m0\u001b[39m)\n\u001b[1;32m   1558\u001b[0m \u001b[38;5;28;01mfor\u001b[39;00m hdu \u001b[38;5;129;01min\u001b[39;00m hdulist:\n",
      "File \u001b[0;32m/opt/anaconda3/envs/myenv/lib/python3.12/site-packages/astropy/io/fits/file.py:471\u001b[0m, in \u001b[0;36m_File.truncate\u001b[0;34m(self, size)\u001b[0m\n\u001b[1;32m    469\u001b[0m \u001b[38;5;28;01mdef\u001b[39;00m\u001b[38;5;250m \u001b[39m\u001b[38;5;21mtruncate\u001b[39m(\u001b[38;5;28mself\u001b[39m, size\u001b[38;5;241m=\u001b[39m\u001b[38;5;28;01mNone\u001b[39;00m):\n\u001b[1;32m    470\u001b[0m     \u001b[38;5;28;01mif\u001b[39;00m \u001b[38;5;28mhasattr\u001b[39m(\u001b[38;5;28mself\u001b[39m\u001b[38;5;241m.\u001b[39m_file, \u001b[38;5;124m\"\u001b[39m\u001b[38;5;124mtruncate\u001b[39m\u001b[38;5;124m\"\u001b[39m):\n\u001b[0;32m--> 471\u001b[0m         \u001b[38;5;28;43mself\u001b[39;49m\u001b[38;5;241;43m.\u001b[39;49m\u001b[43m_file\u001b[49m\u001b[38;5;241;43m.\u001b[39;49m\u001b[43mtruncate\u001b[49m\u001b[43m(\u001b[49m\u001b[43msize\u001b[49m\u001b[43m)\u001b[49m\n",
      "\u001b[0;31mUnsupportedOperation\u001b[0m: truncate"
     ]
    }
   ],
   "source": [
    "from resolve_analysis import FitsEdit\n",
    "import shutil\n",
    "shutil.copy('xa000112000rsl_p0px5000_cl.evt.gz','xa000112000rsl_p0px5000_cl_before_max.evt')\n",
    "F = FitsEdit()\n",
    "F.divide_gti('xa000112000rsl_p0px5000_cl_before_max.evt',153272460.8125-60,'before',True)"
   ]
  },
  {
   "cell_type": "markdown",
   "metadata": {},
   "source": [
    "## fine gtiをmax, brightで分割\n",
    "xa000112000rsl_p0px5000_fine.gtiを使用  \n",
    "max mode : seq20(brightで最初のled on)である153316860.8125 s　-　10 s　で分割  \n",
    "bright   : 2回目のADR recycleで分割　153328200.0　+　60s"
   ]
  },
  {
   "cell_type": "code",
   "execution_count": 1,
   "metadata": {},
   "outputs": [
    {
     "name": "stdout",
     "output_type": "stream",
     "text": [
      "----------------------------------\n",
      "Take out GTI\n",
      "Divide GTI at 153316850.8125\n",
      "max start : 154397375.848125\n",
      "max stop : 154397376.078125\n",
      "GTI information in xa000112000rsl_p0px5000_fine.gti has been saved to xa000112000rsl_p0px5000_fine_max.gti.\n",
      "----------------------------------\n",
      "Take out GTI\n",
      "Divide GTI at 153328260.0\n",
      "max start : 154397375.848125\n",
      "max stop : 154397376.078125\n",
      "GTI information in xa000112000rsl_p0px5000_fine.gti has been saved to xa000112000rsl_p0px5000_fine_brt.gti.\n"
     ]
    }
   ],
   "source": [
    "from resolve_analysis import FitsEdit\n",
    "import os\n",
    "\n",
    "os.chdir('/Volumes/SUNDISK_SSD/PKS_XRISM/repro_analysis/55Fe_nasa_repro_v3/55Fe_cl_data/for_source_divide_fine')\n",
    "F = FitsEdit()\n",
    "F.divide_gti('xa000112000rsl_p0px5000_fine.gti',153316860.8125-10,'before',False,'xa000112000rsl_p0px5000_fine_max.gti')\n",
    "F.divide_gti('xa000112000rsl_p0px5000_fine.gti',153328200.0+60,'after',False,'xa000112000rsl_p0px5000_fine_brt.gti')"
   ]
  },
  {
   "cell_type": "markdown",
   "metadata": {},
   "source": [
    "## max, brightのgtiのmerge\n",
    "% shell command  \n",
    "event gtiとmax fine gtiのmerge  \n",
    "ftmgtime \"xa000112000rsl_p0px5000_cl.evt.gz[GTI], xa000112000rsl_p0px5000_fine_max.gti[GTI]\" xa000112000rsl_p0px5000_fine_max_evt_merge.gti AND  \n",
    "\n",
    "event gtiとbrt fine gtiのmerge  \n",
    "ftmgtime \"xa000112000rsl_p0px5000_cl.evt.gz[GTI], xa000112000rsl_p0px5000_fine_brt.gti[GTI]\" xa000112000rsl_p0px5000_fine_brt_evt_merge.gti AND  \n",
    "\n",
    "<!-- before maxとmerged max gtiのmerge  \n",
    "ftmgtime \"xa000112000rsl_p0px5000_fine_max_evt_merge.gti[STDGTI], xa000112000rsl_p0px5000_cl_before_max.gti[GTI]\" xa000112000rsl_p0px5000_fine_max_evt_merge2.gti OR   -->"
   ]
  },
  {
   "cell_type": "markdown",
   "metadata": {},
   "source": [
    "## event fileにgtiを適用\n",
    "% shell command   \n",
    "\n",
    "max event  \n",
    "ahscreen infile=xa000112000rsl_p0px5000_cl.evt.gz outfile=xa000112000rsl_p0px5000_max.evt gtifile=xa000112000rsl_p0px5000_fine_max_evt_merge.gti expr=NONE selectfile=None label=NONE mergegti=AND  \n",
    "\n",
    "brt event  \n",
    "ahscreen infile=xa000112000rsl_p0px5000_cl.evt.gz outfile=xa000112000rsl_p0px5000_brt.evt gtifile=xa000112000rsl_p0px5000_fine_brt_evt_merge.gti expr=NONE selectfile=None label=NONE mergegti=AND  \n",
    "\n"
   ]
  },
  {
   "cell_type": "markdown",
   "metadata": {},
   "source": []
  }
 ],
 "metadata": {
  "kernelspec": {
   "display_name": "myenv",
   "language": "python",
   "name": "python3"
  },
  "language_info": {
   "codemirror_mode": {
    "name": "ipython",
    "version": 3
   },
   "file_extension": ".py",
   "mimetype": "text/x-python",
   "name": "python",
   "nbconvert_exporter": "python",
   "pygments_lexer": "ipython3",
   "version": "3.12.3"
  }
 },
 "nbformat": 4,
 "nbformat_minor": 2
}
